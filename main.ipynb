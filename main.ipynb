{
 "cells": [
  {
   "cell_type": "code",
   "execution_count": 1,
   "id": "ae7fa32e-eee7-432e-a25e-7c8f0da1b1f1",
   "metadata": {
    "tags": []
   },
   "outputs": [],
   "source": [
    "import pandas as pd\n",
    "import numpy as np\n",
    "from scipy.stats import  norm\n",
    "from statsmodels.stats.weightstats import DescrStatsW, CompareMeans\n",
    "from statsmodels.stats.weightstats import ztest"
   ]
  },
  {
   "cell_type": "code",
   "execution_count": 2,
   "id": "e0fb880e-0b66-4075-b8b8-33a148b95a06",
   "metadata": {
    "tags": []
   },
   "outputs": [],
   "source": [
    "dataset = pd.read_csv('dados.csv')"
   ]
  },
  {
   "cell_type": "code",
   "execution_count": 3,
   "id": "1ae3c254-eb05-4e42-9f89-c93d5b162775",
   "metadata": {
    "tags": []
   },
   "outputs": [
    {
     "data": {
      "text/html": [
       "<div>\n",
       "<style scoped>\n",
       "    .dataframe tbody tr th:only-of-type {\n",
       "        vertical-align: middle;\n",
       "    }\n",
       "\n",
       "    .dataframe tbody tr th {\n",
       "        vertical-align: top;\n",
       "    }\n",
       "\n",
       "    .dataframe thead th {\n",
       "        text-align: right;\n",
       "    }\n",
       "</style>\n",
       "<table border=\"1\" class=\"dataframe\">\n",
       "  <thead>\n",
       "    <tr style=\"text-align: right;\">\n",
       "      <th></th>\n",
       "      <th>UF</th>\n",
       "      <th>Sexo</th>\n",
       "      <th>Idade</th>\n",
       "      <th>Cor</th>\n",
       "      <th>Anos de Estudo</th>\n",
       "      <th>Renda</th>\n",
       "      <th>Altura</th>\n",
       "    </tr>\n",
       "  </thead>\n",
       "  <tbody>\n",
       "    <tr>\n",
       "      <th>0</th>\n",
       "      <td>11</td>\n",
       "      <td>0</td>\n",
       "      <td>23</td>\n",
       "      <td>8</td>\n",
       "      <td>12</td>\n",
       "      <td>800</td>\n",
       "      <td>1.603808</td>\n",
       "    </tr>\n",
       "    <tr>\n",
       "      <th>1</th>\n",
       "      <td>11</td>\n",
       "      <td>1</td>\n",
       "      <td>23</td>\n",
       "      <td>2</td>\n",
       "      <td>12</td>\n",
       "      <td>1150</td>\n",
       "      <td>1.739790</td>\n",
       "    </tr>\n",
       "    <tr>\n",
       "      <th>2</th>\n",
       "      <td>11</td>\n",
       "      <td>1</td>\n",
       "      <td>35</td>\n",
       "      <td>8</td>\n",
       "      <td>15</td>\n",
       "      <td>880</td>\n",
       "      <td>1.760444</td>\n",
       "    </tr>\n",
       "  </tbody>\n",
       "</table>\n",
       "</div>"
      ],
      "text/plain": [
       "   UF  Sexo  Idade  Cor  Anos de Estudo  Renda    Altura\n",
       "0  11     0     23    8              12    800  1.603808\n",
       "1  11     1     23    2              12   1150  1.739790\n",
       "2  11     1     35    8              15    880  1.760444"
      ]
     },
     "execution_count": 3,
     "metadata": {},
     "output_type": "execute_result"
    }
   ],
   "source": [
    "dataset.head(3)"
   ]
  },
  {
   "cell_type": "markdown",
   "id": "61ee6950-bdac-4fe6-89b3-8eb2a74021f9",
   "metadata": {
    "tags": []
   },
   "source": [
    "#### <font color = C4052A/>PROBLEMA </font>\n",
    "\n",
    "Você é um pesquisador que estuda o mercado de trabalho brasileiro e resolve estudar as diferenças salariais dos trabalhadores dos estados do Rio de Janeiro e de São Paulo. Durante sua pesquisa você verifica que, aparentemente, os rendimentos dos trabalhadores no estado do Rio de Janeiro são mais baixos que os rendimentos dos trabalhadores no estado de São Paulo. Para confirmar esta conclusão realize um teste de hipótese de comparação de médias em cima de duas amostras de trabalhadores dos dois estados. Siga as seguintes etapas:\n",
    "\n",
    "- Selecione duas amostras de **500 trabalhadores** para cada um dos dois estados (variável UF) para realizar o teste. Utilize o **parâmetro random_state=101**.\n",
    "- Considere o **nível de significância de 5%**.\n",
    "- Teste a hipótese de que a **renda média dos trabalhadores do Rio de Janeiro é menor que a renda média dos trabalhadores de São Paulo**."
   ]
  },
  {
   "cell_type": "code",
   "execution_count": 4,
   "id": "2b174487-8f3b-42f4-a3cd-aef4f8234e8f",
   "metadata": {
    "tags": []
   },
   "outputs": [],
   "source": [
    "# substituindo os valores correspondentes aos respectivos estados\n",
    "estados_dict = {\n",
    "    11: 'Rondônia', 12: 'Acre', 13: 'Amazonas',14: 'Roraima', 15: 'Pará',16: 'Amapá', 17: 'Tocantins',21: 'Maranhão',22: 'Piauí',23: 'Ceará',\n",
    "    24: 'Rio Grande do Norte',25: 'Paraíba', 26: 'Pernambuco',27: 'Alagoas', 28: 'Sergipe',   29: 'Bahia', 31: 'Minas Gerais', 32: 'Espírito Santo',\n",
    "    33: 'Rio de Janeiro',35: 'São Paulo',41: 'Paraná',42: 'Santa Catarina',43: 'Rio Grande do Sul',50: 'Mato Grosso do Sul',51: 'Mato Grosso',\n",
    "    52: 'Goiás',53: 'Distrito Federal'\n",
    "}\n",
    "dataset['UF'].replace(estados_dict, inplace = True)"
   ]
  },
  {
   "cell_type": "code",
   "execution_count": 5,
   "id": "dd8bc951-29d9-4304-95a4-68655ca690ad",
   "metadata": {
    "tags": []
   },
   "outputs": [],
   "source": [
    "# separando as amostras\n",
    "sp = dataset.query(\"UF == 'São Paulo'\").sample(n = 500, random_state = 101).Renda\n",
    "rj = dataset.query(\"UF == 'Rio de Janeiro'\").sample(n = 500, random_state = 101).Renda"
   ]
  },
  {
   "cell_type": "code",
   "execution_count": 6,
   "id": "f8c2ab01-7ef0-4f7a-b9ba-69df128e04a0",
   "metadata": {
    "tags": []
   },
   "outputs": [],
   "source": [
    "# definindo valores de significância e confiância\n",
    "significancia = 0.05\n",
    "confianca = 1 - significancia"
   ]
  },
  {
   "cell_type": "markdown",
   "id": "bb45df55-15b1-4e39-ac11-750c793a05fb",
   "metadata": {},
   "source": [
    "#### zTeste comparativo com  DescrStatsW  e  CompareMeans\n",
    "\n",
    "https://www.statsmodels.org/dev/generated/statsmodels.stats.weightstats.DescrStatsW.html\n",
    "\n",
    "https://www.statsmodels.org/dev/generated/statsmodels.stats.weightstats.CompareMeans.ttest_ind.html"
   ]
  },
  {
   "cell_type": "code",
   "execution_count": 7,
   "id": "fc1636ff-320f-44ee-84a3-cb2659c45efd",
   "metadata": {
    "tags": []
   },
   "outputs": [],
   "source": [
    "test_sp = DescrStatsW(sp)\n",
    "test_rj = DescrStatsW(rj)"
   ]
  },
  {
   "cell_type": "code",
   "execution_count": 8,
   "id": "ca77448e-31e2-4350-b1e3-0d916aec7b99",
   "metadata": {
    "tags": []
   },
   "outputs": [],
   "source": [
    "# testando a hipótise nula (H0) que o rendimento do rio é maior que o rendimento que o rendimento de são paulo \n",
    "test_A = test_rj.get_compare(test_sp)"
   ]
  },
  {
   "cell_type": "code",
   "execution_count": 9,
   "id": "47c363c3-a579-4260-af83-c583fe2e5f15",
   "metadata": {
    "tags": []
   },
   "outputs": [
    {
     "name": "stdout",
     "output_type": "stream",
     "text": [
      "Estatística z -> -2.255318273608558\n",
      "p-valor -> 0.012056679215693396\n"
     ]
    }
   ],
   "source": [
    "z, p_valor = test_A.ztest_ind(alternative='smaller', value=0)\n",
    "print('Estatística z ->', z)\n",
    "print('p-valor ->', p_valor)"
   ]
  },
  {
   "cell_type": "code",
   "execution_count": 10,
   "id": "ddfa6d48-9882-417a-b086-b7f06bb732fb",
   "metadata": {
    "tags": []
   },
   "outputs": [],
   "source": [
    "# test b com compareMeans\n",
    "test_B = CompareMeans(test_rj, test_sp)"
   ]
  },
  {
   "cell_type": "code",
   "execution_count": 11,
   "id": "f3307e2d-839c-4977-b3b4-cd30d712d2c1",
   "metadata": {
    "tags": []
   },
   "outputs": [
    {
     "name": "stdout",
     "output_type": "stream",
     "text": [
      "Estatística z -> -2.255318273608558\n",
      "p-valor -> 0.012056679215693396\n"
     ]
    }
   ],
   "source": [
    "z, p_valor = test_B.ztest_ind(alternative='smaller', value=0)\n",
    "print('Estatística z ->', z)\n",
    "print('p-valor ->', p_valor)"
   ]
  },
  {
   "cell_type": "code",
   "execution_count": 12,
   "id": "f5afccd3-8c9a-451c-8270-ef370a6fab75",
   "metadata": {
    "tags": []
   },
   "outputs": [
    {
     "data": {
      "text/plain": [
       "True"
      ]
     },
     "execution_count": 12,
     "metadata": {},
     "output_type": "execute_result"
    }
   ],
   "source": [
    "p_valor <= significancia"
   ]
  },
  {
   "cell_type": "markdown",
   "id": "b21b56f2-f9cb-49dc-ad1c-de68e3a2985f",
   "metadata": {
    "tags": []
   },
   "source": [
    "### <font color = 00bff/>Conclusão Teste 1</font>\n",
    "#### Considerando que o p_valor é <= que a  significância, nosso primeiro teste nos permite afirmar com um nível de 95% de confiança que  a hipótese nula (H0) pode ser rejeitada, ou seja, o rendimento do Rio de janeiro não é maior que o Rendimendo de são Paulo"
   ]
  },
  {
   "cell_type": "markdown",
   "id": "40c5820b-72b5-4dc8-831a-9fb09509c002",
   "metadata": {},
   "source": [
    "---"
   ]
  },
  {
   "cell_type": "markdown",
   "id": "b93c5297-394c-43d3-8a0a-aac0009a7bb1",
   "metadata": {},
   "source": [
    "**USANDO A FÓRMULA** - cálculo da estatística-teste e verificação desse valor com as áreas de aceitação e rejeição do teste\n",
    "# $$z = \\frac{(\\bar{x_1} - \\bar{x_2})-D_0}{\\sqrt{\\frac{s_1^2}{n_1} + \\frac{s_2^2}{n_2}}}$$"
   ]
  },
  {
   "cell_type": "code",
   "execution_count": 13,
   "id": "ab4e7410-0d8c-44ef-a925-7db3d6b832d5",
   "metadata": {
    "tags": []
   },
   "outputs": [],
   "source": [
    "# criando os parâmetros da equação com base nas informações do problema\n",
    "sp_mean = sp.mean() # média\n",
    "sp_std = sp.std() # desvio padrão\n",
    "rj_mean = rj.mean() # média\n",
    "rj_std = rj.std() # desvio padrão "
   ]
  },
  {
   "cell_type": "code",
   "execution_count": 14,
   "id": "34e5c637-6d8c-4bda-8def-5ffa9f6609b2",
   "metadata": {
    "tags": []
   },
   "outputs": [],
   "source": [
    "probabilidade = confianca\n",
    "n_rj = 500 # n de amostras\n",
    "n_sp = 500\n",
    "D_0 = 0 # diferênça esperada entre as médias, a diferença observada permite fazer o cálculo comparativo"
   ]
  },
  {
   "cell_type": "code",
   "execution_count": 15,
   "id": "732b5702-5e32-43ef-8dc5-1331f8bdff6a",
   "metadata": {
    "tags": []
   },
   "outputs": [
    {
     "data": {
      "text/plain": [
       "1.64"
      ]
     },
     "execution_count": 15,
     "metadata": {},
     "output_type": "execute_result"
    }
   ],
   "source": [
    "# valor crítico de z\n",
    "z_alpha = norm.ppf(probabilidade)\n",
    "z_alpha.round(2)"
   ]
  },
  {
   "cell_type": "code",
   "execution_count": 16,
   "id": "cb76d8b1-0472-4834-aeee-8696856a1e81",
   "metadata": {
    "tags": []
   },
   "outputs": [
    {
     "data": {
      "text/plain": [
       "-2.255318273608558"
      ]
     },
     "execution_count": 16,
     "metadata": {},
     "output_type": "execute_result"
    }
   ],
   "source": [
    "# equação\n",
    "numerador = (rj_mean - sp_mean) - D_0\n",
    "denominador = np.sqrt((rj_std ** 2 / n_rj) + (sp_std ** 2 / n_sp))\n",
    "z = numerador / denominador\n",
    "z"
   ]
  },
  {
   "cell_type": "code",
   "execution_count": 17,
   "id": "72d28742-48f2-4d79-8180-d03bfbd95f95",
   "metadata": {
    "tags": []
   },
   "outputs": [
    {
     "data": {
      "text/plain": [
       "True"
      ]
     },
     "execution_count": 17,
     "metadata": {},
     "output_type": "execute_result"
    }
   ],
   "source": [
    "z <= z_alpha"
   ]
  },
  {
   "cell_type": "markdown",
   "id": "7e264c55-338d-453d-a6b6-605f9ad56d44",
   "metadata": {},
   "source": [
    "### <font color = 00bff/>Conclusão Teste 2</font>\n",
    "#### Considerando que o z é <= a z_alpha, nosso segundo teste também nos permite afirmar com um nível de 95% de confiança que a hipótese nula (H0) pode ser rejeitada, ou seja, o rendimento do Rio de janeiro não é maior que o Rendimendo de são Paulo"
   ]
  },
  {
   "cell_type": "markdown",
   "id": "fd71b12d-436f-467e-bf77-f3d21d3dbe46",
   "metadata": {},
   "source": [
    "---"
   ]
  },
  {
   "cell_type": "markdown",
   "id": "df96b1fa-8ece-48c2-86b6-558cf2f8ac28",
   "metadata": {},
   "source": [
    "##  <font color =C4052A />Gráfico de distribuição das médias de Renda até 40k das amostras</font>"
   ]
  },
  {
   "cell_type": "code",
   "execution_count": 19,
   "id": "0451cf5c-79d9-44d0-b40b-ad4da411a894",
   "metadata": {},
   "outputs": [],
   "source": [
    "plot_sp = sp[sp < 40000]\n",
    "plot_rj = rj[rj < 40000]"
   ]
  },
  {
   "cell_type": "code",
   "execution_count": 27,
   "id": "cc86fca3-2b64-4ec5-bbfe-56023ead2396",
   "metadata": {
    "tags": []
   },
   "outputs": [
    {
     "data": {
      "image/png": "[encoded data removed]",
      "text/plain": [
       "<Figure size 1500x800 with 1 Axes>"
      ]
     },
     "metadata": {},
     "output_type": "display_data"
    }
   ],
   "source": [
    "import matplotlib.pyplot as plt\n",
    "\n",
    "plt.figure(figsize=(15, 8))\n",
    "\n",
    "plt.hist(plot_sp, bins=50, alpha=0.5, color='blue', label='São Paulo')\n",
    "plt.hist(plot_rj, bins=50, alpha=0.5, color='green', label='Rio de Janeiro')\n",
    "plt.axvline(plot_sp.mean(), color='blue', linestyle='--', label='Média SP')\n",
    "plt.axvline(plot_rj.mean(), color= '#356B68', linestyle='--', label='Média RJ')\n",
    "\n",
    "# Personalização do gráfico\n",
    "plt.xlabel('Renda')\n",
    "plt.ylabel('Frequência')\n",
    "plt.title('Histograma de Renda amostral de São Paulo e Rio de Janeiro')\n",
    "plt.legend(fontsize = 12)\n",
    "\n",
    "plt.annotate(f'Média SP: R${plot_sp.mean():.2f}', xy=(plot_sp.mean(), 50), xytext=(plot_sp.mean() + 2400, 150), color='blue', fontsize=12,\n",
    "             arrowprops=dict(arrowstyle='->', color='blue'))\n",
    "plt.annotate(f'Média RJ: R${plot_rj.mean():.2f}', xy=(plot_rj.mean(), 30), xytext=(plot_rj.mean() + 4800, 100), color='green', fontsize=12,\n",
    "             arrowprops=dict(arrowstyle='->', color='green'))\n",
    "plt.show()"
   ]
  }
 ],
 "metadata": {
  "kernelspec": {
   "display_name": "Python 3 (ipykernel)",
   "language": "python",
   "name": "python3"
  },
  "language_info": {
   "codemirror_mode": {
    "name": "ipython",
    "version": 3
   },
   "file_extension": ".py",
   "mimetype": "text/x-python",
   "name": "python",
   "nbconvert_exporter": "python",
   "pygments_lexer": "ipython3",
   "version": "3.11.5"
  }
 },
 "nbformat": 4,
 "nbformat_minor": 5
}
